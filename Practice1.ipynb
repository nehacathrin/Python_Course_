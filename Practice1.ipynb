{
  "nbformat": 4,
  "nbformat_minor": 0,
  "metadata": {
    "colab": {
      "name": "Practice1.ipynb",
      "provenance": [],
      "collapsed_sections": []
    },
    "kernelspec": {
      "name": "python3",
      "display_name": "Python 3"
    },
    "language_info": {
      "name": "python"
    }
  },
  "cells": [
    {
      "cell_type": "markdown",
      "metadata": {
        "id": "xLbUEpyNZaVp"
      },
      "source": [
        "1.Take a variable a, and a variable b. Assign some values to them, find their sum, product, difference, quotient, remainder and find a to the power of b(a^b)"
      ]
    },
    {
      "cell_type": "code",
      "metadata": {
        "colab": {
          "base_uri": "https://localhost:8080/"
        },
        "id": "9XHui-Z5ZmN3",
        "outputId": "1fbca5cc-6eac-434b-be01-23333a1e9b2e"
      },
      "source": [
        "a=10\n",
        "b=5\n",
        "print(a+b)\n",
        "print(a-b)\n",
        "print(a*b)\n",
        "print(a/b)\n",
        "print(a%b)\n",
        "print(pow(a,b))"
      ],
      "execution_count": null,
      "outputs": [
        {
          "output_type": "stream",
          "text": [
            "15\n",
            "5\n",
            "50\n",
            "2.0\n",
            "0\n",
            "100000\n"
          ],
          "name": "stdout"
        }
      ]
    },
    {
      "cell_type": "markdown",
      "metadata": {
        "id": "TdBelJkRaNMZ"
      },
      "source": [
        "After execution, now take external input from user using the input() keyword. Take input for String, and a number. Do the following:\n",
        "Concat the two data types into a variable c"
      ]
    },
    {
      "cell_type": "code",
      "metadata": {
        "colab": {
          "base_uri": "https://localhost:8080/"
        },
        "id": "45UJ6pUabU9O",
        "outputId": "a88331f5-9cc6-4a00-d575-fe306f3ca402"
      },
      "source": [
        "a = input(\"Enter the string:\")\n",
        "b = input(\"Enter the number:\")\n",
        "c = a + \" \" + b\n",
        "print(c)"
      ],
      "execution_count": null,
      "outputs": [
        {
          "output_type": "stream",
          "text": [
            "Enter the string:neha\n",
            "Enter the number:10\n",
            "neha 10\n"
          ],
          "name": "stdout"
        }
      ]
    },
    {
      "cell_type": "markdown",
      "metadata": {
        "id": "q-1e00kzbZjc"
      },
      "source": [
        "Perform multiplication of the 2 data types, store it in d. Find data type of variable d and print it"
      ]
    },
    {
      "cell_type": "code",
      "metadata": {
        "colab": {
          "base_uri": "https://localhost:8080/"
        },
        "id": "bx1lisfDbqB-",
        "outputId": "456b5ec4-3f85-4133-c07a-29fa9760b21a"
      },
      "source": [
        "a=10\n",
        "b=5.0\n",
        "d=a*b\n",
        "print(type(d))\n",
        "print(d)"
      ],
      "execution_count": null,
      "outputs": [
        {
          "output_type": "stream",
          "text": [
            "<class 'float'>\n",
            "50.0\n"
          ],
          "name": "stdout"
        }
      ]
    },
    {
      "cell_type": "markdown",
      "metadata": {
        "id": "ZmR2-1eRb2g-"
      },
      "source": [
        "Take input of 2 strings. Perform concatination of those strings using the + operator and the , operator."
      ]
    },
    {
      "cell_type": "code",
      "metadata": {
        "colab": {
          "base_uri": "https://localhost:8080/"
        },
        "id": "uB-EraWQcTQs",
        "outputId": "89d9bce0-f3d0-468d-a1d3-14d70e2b0705"
      },
      "source": [
        "a = input(\"Enter the string:\")\n",
        "b = input(\"Enter the string:\")\n",
        "print(a+\" \"+b)\n",
        "print(a,b)"
      ],
      "execution_count": null,
      "outputs": [
        {
          "output_type": "stream",
          "text": [
            "Enter the string:neha\n",
            "Enter the string:cathrin\n",
            "neha cathrin\n",
            "neha cathrin\n"
          ],
          "name": "stdout"
        }
      ]
    },
    {
      "cell_type": "markdown",
      "metadata": {
        "id": "mf34enToef6u"
      },
      "source": [
        "In the above code, now make the modification such that the input is of string data type, and instead of performing x/y modify that to finding the quotient of their ascii values. Eg: string hello has the ascii values 104 101 108 108 111. If x < y then concat the two strings. If x > y then take a number n and then print the concated string n times."
      ]
    },
    {
      "cell_type": "code",
      "metadata": {
        "colab": {
          "base_uri": "https://localhost:8080/"
        },
        "id": "3sc9eWhVjqCq",
        "outputId": "07065853-adcb-4479-f50c-a7c903f9caa5"
      },
      "source": [
        "x= input(\"Enter string x:\")\n",
        "y= input('Enter string y:')\n",
        "if x==y: \n",
        "  print(\"x and y are equal\")\n",
        "  if y!= 0:\n",
        "   for letter in x:\n",
        "     print(ord(letter))\n",
        "\n",
        "elif x<y: \n",
        "  print(x+\" \"+y)\n",
        "else:\n",
        "  n=int(input(\"any number: \"))\n",
        "  s=x+\" \"+y\n",
        "  print((s)*n)"
      ],
      "execution_count": null,
      "outputs": [
        {
          "output_type": "stream",
          "text": [
            "Enter string x:gm\n",
            "Enter string y:gm\n",
            "x and y are equal\n",
            "103\n",
            "109\n"
          ],
          "name": "stdout"
        }
      ]
    },
    {
      "cell_type": "markdown",
      "metadata": {
        "id": "GlzjREpwlWC6"
      },
      "source": [
        ""
      ]
    },
    {
      "cell_type": "code",
      "metadata": {
        "colab": {
          "base_uri": "https://localhost:8080/"
        },
        "id": "dXn-EjhXojGj",
        "outputId": "d48e5484-2c3a-458e-bbff-7603ee58b06f"
      },
      "source": [
        "pi = 3.14\n",
        "diameter = int(input(\"enter diameter\"))\n",
        "radius = float(diameter/2)\n",
        "area= pi*(radius**2)\n",
        "print(area)"
      ],
      "execution_count": null,
      "outputs": [
        {
          "output_type": "stream",
          "text": [
            "enter diameter10\n",
            "78.5\n"
          ],
          "name": "stdout"
        }
      ]
    },
    {
      "cell_type": "markdown",
      "metadata": {
        "id": "qDQLFBHRo-3Z"
      },
      "source": [
        "Add code to the following cell to swap variables a and b (so that a refers to the object previously referred to by b and vice versa)."
      ]
    },
    {
      "cell_type": "code",
      "metadata": {
        "colab": {
          "base_uri": "https://localhost:8080/"
        },
        "id": "go3vgCQUo_eE",
        "outputId": "65c0e97c-1e72-46f8-959e-2fda355803c6"
      },
      "source": [
        "a=10\n",
        "b=20\n",
        "temp=a\n",
        "a=b\n",
        "b=temp\n",
        "print(\"after swapping : a = \",a,\"  b= \",b)"
      ],
      "execution_count": null,
      "outputs": [
        {
          "output_type": "stream",
          "text": [
            "after swapping : a =  20   b=  10\n"
          ],
          "name": "stdout"
        }
      ]
    },
    {
      "cell_type": "markdown",
      "metadata": {
        "id": "gPeiJSIspzcJ"
      },
      "source": [
        "A, B and C have agreed to pool their Halloween candy and split it evenly among themselves. For the sake of their friendship, any candies left over will be smashed. For example, if they collectively bring home 91 candies, they'll take 30 each and smash 1.\n",
        "\n",
        "Write an arithmetic expression below to calculate how many candies they must smash for a given haul"
      ]
    },
    {
      "cell_type": "code",
      "metadata": {
        "colab": {
          "base_uri": "https://localhost:8080/"
        },
        "id": "kp8Yfk84p0BF",
        "outputId": "a3d4f903-0925-40ce-aaef-64ba5103a561"
      },
      "source": [
        "a=int(input(\"enter candies of a\"))\n",
        "b=int(input(\"enter candies of b\"))\n",
        "c=int(input(\"enter candies of c\"))\n",
        "total=a+b+c\n",
        "smashed=total%3\n",
        "print(\"candies to be smashed :\",smashed)"
      ],
      "execution_count": null,
      "outputs": [
        {
          "output_type": "stream",
          "text": [
            "enter candies of a50\n",
            "enter candies of b30\n",
            "enter candies of c20\n",
            "candies to be smashed : 1\n"
          ],
          "name": "stdout"
        }
      ]
    },
    {
      "cell_type": "markdown",
      "metadata": {
        "id": "cMXllsy-GEVP"
      },
      "source": [
        "Make your game\n",
        "\n",
        "Like the simple game earlier, if the character moves to the right, the game doesn't end. Anything else, and the game ends. Code your own version of this game.\n",
        "\n"
      ]
    },
    {
      "cell_type": "code",
      "metadata": {
        "colab": {
          "base_uri": "https://localhost:8080/"
        },
        "id": "LHcsmMjAGFoz",
        "outputId": "1e514487-71e3-4b84-dfbd-142b7fc2eb24"
      },
      "source": [
        "dir=\"right\"\n",
        "space=\" \"\n",
        "while dir==\"right\" or dir==\"Right\" or dir==\"RIGHT\":\n",
        "  print(space,\"********\\n\",space,\"    😃    \\n\",space,\"********\\n \")\n",
        "  dir=input(\"Go left or right \")\n",
        "  space=space+\" \"\n",
        "print(\"game ends\")\n"
      ],
      "execution_count": null,
      "outputs": [
        {
          "output_type": "stream",
          "text": [
            "  ********\n",
            "       😃    \n",
            "   ********\n",
            " \n",
            "Go left or right right\n",
            "   ********\n",
            "        😃    \n",
            "    ********\n",
            " \n"
          ],
          "name": "stdout"
        }
      ]
    }
  ]
}