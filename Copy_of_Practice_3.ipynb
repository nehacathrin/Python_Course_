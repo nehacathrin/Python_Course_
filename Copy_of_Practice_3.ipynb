{
  "nbformat": 4,
  "nbformat_minor": 0,
  "metadata": {
    "colab": {
      "name": "Copy of Practice 3.ipynb",
      "provenance": [],
      "collapsed_sections": []
    },
    "kernelspec": {
      "name": "python3",
      "display_name": "Python 3"
    },
    "language_info": {
      "name": "python"
    }
  },
  "cells": [
    {
      "cell_type": "markdown",
      "metadata": {
        "id": "fw2ULGlEIlvB"
      },
      "source": [
        "# 1.\n",
        "\n",
        "Complete the body of the following function according to its docstring."
      ]
    },
    {
      "cell_type": "code",
      "metadata": {
        "id": "c7mUl2inIidX",
        "colab": {
          "base_uri": "https://localhost:8080/"
        },
        "outputId": "0d6b912d-2af2-4b24-d5ca-5131717d7088"
      },
      "source": [
        "def round_to_two_places(num):\n",
        "    \"\"\"Return the given number rounded to two decimal places. \n",
        "    \n",
        "    >>> round_to_two_places(3.14159)\n",
        "    3.14\n",
        "    \"\"\"\n",
        "    return(round(num,2))\n",
        "    pass\n",
        "n=float(input(\"enter a decimal number\"))\n",
        "print(round_to_two_places(n))"
      ],
      "execution_count": null,
      "outputs": [
        {
          "output_type": "stream",
          "text": [
            "enter a decimal number3.14159\n",
            "3.14\n"
          ],
          "name": "stdout"
        }
      ]
    },
    {
      "cell_type": "markdown",
      "metadata": {
        "id": "Ze4i9XtbJEPo"
      },
      "source": [
        "# 2.\n",
        "The `round` function says that `ndigits` (the second argument) may be negative.\n",
        "What do you think will happen when it is? Try some examples in the following cell."
      ]
    },
    {
      "cell_type": "code",
      "metadata": {
        "id": "49F_xLwGJOtR",
        "colab": {
          "base_uri": "https://localhost:8080/"
        },
        "outputId": "fce07d20-df4b-4e36-8c57-6c9fb9820d46"
      },
      "source": [
        "#Try your example here\n",
        "def round_to_two_places(num):\n",
        "    \"\"\"Return the given number rounded to two decimal places. \n",
        "    \n",
        "    >>> round_to_two_places(3.14159)\n",
        "    3.14\n",
        "    \"\"\"\n",
        "    return(round(num,2))\n",
        "    pass\n",
        "n=float(input(\"enter a decimal number\"))\n",
        "print(round_to_two_places(n))"
      ],
      "execution_count": null,
      "outputs": [
        {
          "output_type": "stream",
          "text": [
            "enter a decimal number-5.1278\n",
            "-5.13\n"
          ],
          "name": "stdout"
        }
      ]
    },
    {
      "cell_type": "markdown",
      "metadata": {
        "id": "uM1ku4YsJQx9"
      },
      "source": [
        "# 3.\n",
        "In the previous assignment, the candy-sharing friends A, B and C tried to split candies evenly. For the sake of their friendship, any candies left over would be smashed. For example, if they collectively bring home 91 candies, they'll take 30 each and smash 1.\n",
        "\n",
        "Below is a simple function that will calculate the number of candies to smash for any number of total candies.\n",
        "\n",
        "Modify it so that it optionally takes a second argument representing the number of friends the candies are being split between. If no second argument is provided, it should assume 3 friends, as before.\n",
        "\n",
        "Update the docstring to reflect this new behaviour."
      ]
    },
    {
      "cell_type": "code",
      "metadata": {
        "id": "F8TEflM7JexD",
        "colab": {
          "base_uri": "https://localhost:8080/"
        },
        "outputId": "46cd2f78-0133-46cc-82c9-6cf6dbcef7de"
      },
      "source": [
        "def to_smash(total_candies,friends):\n",
        "    \"\"\"Return the number of leftover candies that must be smashed after distributing\n",
        "    the given number of candies evenly between 3 friends.\n",
        "    \n",
        "    >>> to_smash(91)\n",
        "    1\n",
        "    \"\"\"\n",
        "    if friends==0:\n",
        "      return total_candies % 3\n",
        "    return total_candies % friends\n",
        "#Write your own code to call the function and then get a return value.\n",
        "f=int(input(\"enter no of friends\"))\n",
        "t=int(input(\"enter total candies\"))\n",
        "print(\"no of candies smashed = \",to_smash(t,f))"
      ],
      "execution_count": null,
      "outputs": [
        {
          "output_type": "stream",
          "text": [
            "enter no of friends5\n",
            "enter total candies99\n",
            "no of candies smashed =  4\n"
          ],
          "name": "stdout"
        }
      ]
    },
    {
      "cell_type": "markdown",
      "metadata": {
        "id": "0CRn_zEuJlGu"
      },
      "source": [
        "# 3.1\n",
        "\n",
        " \"logging\" has been added to our `to_smash` function from the previous exercise."
      ]
    },
    {
      "cell_type": "code",
      "metadata": {
        "id": "LLqfkgJKKHxY"
      },
      "source": [
        "def to_smash(total_candies):\n",
        "    \"\"\"Return the number of leftover candies that must be smashed after distributing\n",
        "    the given number of candies evenly between 3 friends.\n",
        "    \n",
        "    >>> to_smash(91)\n",
        "    1\n",
        "    \"\"\"\n",
        "    print(\"Splitting\", total_candies, \"candies\")\n",
        "    return total_candies % 3\n",
        "\n",
        "to_smash(91)"
      ],
      "execution_count": null,
      "outputs": []
    },
    {
      "cell_type": "markdown",
      "metadata": {
        "id": "3nI4D-VJKLIe"
      },
      "source": [
        "What happens if we call it with total_candies = 1?"
      ]
    },
    {
      "cell_type": "code",
      "metadata": {
        "id": "Zp_oI8O2KOk6",
        "colab": {
          "base_uri": "https://localhost:8080/"
        },
        "outputId": "f6cd5b26-835b-4e9a-ffa9-5646d5205a6f"
      },
      "source": [
        "def to_smash(total_candies):\n",
        "    \"\"\"Return the number of leftover candies that must be smashed after distributing\n",
        "    the given number of candies evenly between 3 friends.\n",
        "    \n",
        "    >>> to_smash(1)\n",
        "    1\n",
        "    \"\"\"\n",
        "    if total_candies ==1:\n",
        "      print(\"Splitting\", total_candies, \"candy\")\n",
        "    else:\n",
        "      print(\"Splitting\", total_candies, \"candies\")\n",
        "    return total_candies % 3\n",
        "\n",
        "left=to_smash(1)\n",
        "if left==1:\n",
        "  print(\"1 candy smashed\")\n",
        "else:\n",
        "  print(left,\" candies smashed\")"
      ],
      "execution_count": null,
      "outputs": [
        {
          "output_type": "stream",
          "text": [
            "Splitting 1 candy\n",
            "1 candy smashed\n"
          ],
          "name": "stdout"
        }
      ]
    },
    {
      "cell_type": "markdown",
      "metadata": {
        "id": "pySOakLAKs4U"
      },
      "source": [
        "That isn't great grammar!\n",
        "\n",
        "Modify the definition in the cell below to correct the grammar of our print statement. (If there's only one candy, we should use the singular \"candy\" instead of the plural \"candies\")"
      ]
    },
    {
      "cell_type": "code",
      "metadata": {
        "id": "54XvxWYZKyIx",
        "colab": {
          "base_uri": "https://localhost:8080/"
        },
        "outputId": "d9f2140f-d219-47b1-aeda-963a58b9b49c"
      },
      "source": [
        "def to_smash(total_candies):\n",
        "    \"\"\"Return the number of leftover candies that must be smashed after distributing\n",
        "    the given number of candies evenly between 3 friends.\n",
        "    \n",
        "    >>> to_smash(1)\n",
        "    1\n",
        "    \"\"\"\n",
        "    if total_candies ==1:\n",
        "      print(\"Splitting\", total_candies, \"candy\")\n",
        "    else:\n",
        "      print(\"Splitting\", total_candies, \"candies\")\n",
        "    return total_candies % 3\n",
        "\n",
        "t=int(input(\"enter total candies\"))\n",
        "left=to_smash(t)\n",
        "if left==1:\n",
        "  print(\"1 candy smashed\")\n",
        "else:\n",
        "  print(left,\" candies smashed\")\n"
      ],
      "execution_count": null,
      "outputs": [
        {
          "output_type": "stream",
          "text": [
            "enter total candies1\n",
            "Splitting 1 candy\n",
            "1 candy smashed\n"
          ],
          "name": "stdout"
        }
      ]
    },
    {
      "cell_type": "markdown",
      "metadata": {
        "id": "jS_eLjnzK6EP"
      },
      "source": [
        "# 4. \n",
        "Let's say we are deciding whether we're prepared for the weather. I'm safe from today's weather if...\n",
        "- I have an umbrella...\n",
        "- or if the rain isn't too heavy and I have a hood...\n",
        "- otherwise, I'm still fine unless it's raining *and* it's a workday\n",
        "\n",
        "The function below uses the first attempt at turning this logic into a Python expression. I claimed that there was a bug in that code. Can you find it?\n",
        "\n",
        "To prove that `prepared_for_weather` is buggy, come up with a set of inputs where either:\n",
        "- the function returns `False` (but should have returned `True`), or\n",
        "- the function returned `True` (but should have returned `False`)."
      ]
    },
    {
      "cell_type": "code",
      "metadata": {
        "id": "8xefqijaLKvP",
        "colab": {
          "base_uri": "https://localhost:8080/"
        },
        "outputId": "39a0d181-be45-4d41-bab4-dd307b139598"
      },
      "source": [
        "def prepared_for_weather(have_umbrella, rain_level, have_hood, is_workday):\n",
        "    # Don't change this code. Our goal is just to find the bug, not fix it!\n",
        "    return have_umbrella or rain_level < 5 and have_hood or not rain_level > 0 and is_workday \n",
        "    #missing brackets after and before 'or' \n",
        "\n",
        "# Change the values of these inputs so they represent a case where prepared_for_weather\n",
        "# returns the wrong answer.\n",
        "have_umbrella = True\n",
        "rain_level = 0.0\n",
        "have_hood = True\n",
        "is_workday = True\n",
        "\n",
        "# Check what the function returns given the current values of the variables above\n",
        "actual = prepared_for_weather(have_umbrella, rain_level, have_hood, is_workday)\n",
        "print(actual)"
      ],
      "execution_count": null,
      "outputs": [
        {
          "output_type": "stream",
          "text": [
            "False\n"
          ],
          "name": "stdout"
        }
      ]
    },
    {
      "cell_type": "markdown",
      "metadata": {
        "id": "gtZp6KoLLSW0"
      },
      "source": [
        "# 5.\n",
        "\n",
        "The function `is_negative` below is implemented correctly - it returns True if the given number is negative and False otherwise.\n",
        "\n",
        "However, it's more complicated than it needs to be. We can actually reduce the number of lines of code in this function by *75%* while keeping the same behaviour. \n",
        "\n",
        "See if you can come up with an equivalent body that uses just **one line** of code, and put it in the function `concise_is_negative`. (HINT: you don't even need Python's ternary syntax)"
      ]
    },
    {
      "cell_type": "code",
      "metadata": {
        "id": "hCcx-RgILeBn",
        "colab": {
          "base_uri": "https://localhost:8080/"
        },
        "outputId": "185ad2d3-2353-48e2-a9ed-7e11bd5282cd"
      },
      "source": [
        "def is_negative(number):\n",
        "    if number < 0:\n",
        "        return True\n",
        "    else:\n",
        "        return False\n",
        "\n",
        "def concise_is_negative(number):\n",
        "    pass # Your code goes here (try to keep it to one line!)\n",
        "    return True if (number<0) else False\n",
        "            \n",
        "print(concise_is_negative(20))\n",
        "\n",
        "    "
      ],
      "execution_count": null,
      "outputs": [
        {
          "output_type": "stream",
          "text": [
            "False\n"
          ],
          "name": "stdout"
        }
      ]
    },
    {
      "cell_type": "markdown",
      "metadata": {
        "id": "nJ5efDuILtSU"
      },
      "source": [
        "# 5a.\n",
        "\n",
        "The boolean variables `ketchup`, `mustard` and `onion` represent whether a customer wants a particular topping on their hot dog. We want to implement a number of boolean functions that correspond to some yes-or-no questions about the customer's order. For example:"
      ]
    },
    {
      "cell_type": "code",
      "metadata": {
        "id": "qiuIRm3KLyfl",
        "colab": {
          "base_uri": "https://localhost:8080/"
        },
        "outputId": "ae16e717-9cd9-492b-cb58-7ca1eed7e2c7"
      },
      "source": [
        "#There is no modification here, just call the function with the appropriate parameters \n",
        "def onionless(ketchup, mustard, onion):\n",
        "    \"\"\"Return whether the customer doesn't want onions.\n",
        "    \"\"\"\n",
        "    return not onion\n",
        "\n",
        "k=True \n",
        "m=False\n",
        "o=True\n",
        "print(onionless(k,m,o))"
      ],
      "execution_count": null,
      "outputs": [
        {
          "output_type": "stream",
          "text": [
            "False\n"
          ],
          "name": "stdout"
        }
      ]
    },
    {
      "cell_type": "code",
      "metadata": {
        "id": "kxS-jRTrMBDv",
        "colab": {
          "base_uri": "https://localhost:8080/"
        },
        "outputId": "71e5c39c-dc92-4dae-e194-73cc72970b12"
      },
      "source": [
        "# Write the return statemnt and call the function with appropriate parameters\n",
        "def wants_all_toppings(ketchup, mustard, onion):\n",
        "    \"\"\"Return whether the customer wants all 3 toppings\n",
        "    \"\"\"\n",
        "    return ketchup and mustard and onion \n",
        "    pass\n",
        "\n",
        "k=True \n",
        "m=True\n",
        "o=True\n",
        "print(wants_all_toppings(k,m,o))"
      ],
      "execution_count": null,
      "outputs": [
        {
          "output_type": "stream",
          "text": [
            "True\n"
          ],
          "name": "stdout"
        }
      ]
    },
    {
      "cell_type": "markdown",
      "metadata": {
        "id": "xPHyJJy9MaRb"
      },
      "source": [
        "# 6. \n",
        "Complete according to the docstring by calling the said functions with appropriate parameters. "
      ]
    },
    {
      "cell_type": "code",
      "metadata": {
        "id": "32-T98UyMexJ",
        "colab": {
          "base_uri": "https://localhost:8080/"
        },
        "outputId": "abcaead2-2654-4eeb-9235-2d0b5f30450c"
      },
      "source": [
        "def select_second(L):\n",
        "    \"\"\"Return the second element of the given list. If the list has no second\n",
        "    element, return None.\n",
        "    \"\"\"\n",
        "    if len(L)<2 :\n",
        "      return None\n",
        "    else:\n",
        "      return L[1]\n",
        "    pass\n",
        "\n",
        "x=[2]\n",
        "y=[2,4,6]\n",
        "print(select_second(x))\n",
        "print(select_second(y))"
      ],
      "execution_count": null,
      "outputs": [
        {
          "output_type": "stream",
          "text": [
            "None\n",
            "4\n"
          ],
          "name": "stdout"
        }
      ]
    },
    {
      "cell_type": "markdown",
      "metadata": {
        "id": "1f9MmH0IMmj2"
      },
      "source": [
        "# 6.1\n",
        "You are analyzing sports teams.  Members of each team are stored in a list. The Coach is the first name in the list, the captain is the second name in the list, and other players are listed after that. \n",
        "These lists are stored in another list, which starts with the best team and proceeds through the list to the worst team last.  Complete the function below to select the **captain** of the worst team."
      ]
    },
    {
      "cell_type": "code",
      "metadata": {
        "id": "_I3PPfMtMr3z",
        "colab": {
          "base_uri": "https://localhost:8080/"
        },
        "outputId": "ebd1427b-368e-4cee-e065-cac5dab4b092"
      },
      "source": [
        "def losing_team_captain(teams):\n",
        "    \"\"\"Given a list of teams, where each team is a list of names, return the 2nd player (captain)\n",
        "    from the last listed team\n",
        "    \"\"\"\n",
        "    return teams[len(teams)-1][1]\n",
        "    pass\n",
        "\n",
        "#Hint: YOu need to pass a List of Lists; Remeber a list L = [<>,<>]. List of lists is L1 = [[,],[,],[,]...]\n",
        "list=[[\"rick\",\"roy\",\"p1\",\"p2\"],[\"jack\",\"john\",\"p1\",\"p2\"],[\"shine\",\"shawn\",\"p1\",\"p2\"]]\n",
        "print(losing_team_captain(list))"
      ],
      "execution_count": null,
      "outputs": [
        {
          "output_type": "stream",
          "text": [
            "shawn\n"
          ],
          "name": "stdout"
        }
      ]
    },
    {
      "cell_type": "markdown",
      "metadata": {
        "id": "QWr1KUDcNIxL"
      },
      "source": [
        "What are the lengths of the following lists? Fill in the variable lengths with your predictions. (Try to make a prediction for each list without just calling len() on it.)"
      ]
    },
    {
      "cell_type": "code",
      "metadata": {
        "id": "BOHZKAExNJ_l"
      },
      "source": [
        "a = [1, 2, 3]   #3\n",
        "b = [1, [2, 3]]  #2\n",
        "c = []            #0\n",
        "d = [1, 2, 3][1:]  #2\n",
        "\n",
        "# Put your predictions in the list below. Lengths should contain 4 numbers, the\n",
        "# first being the length of a, the second being the length of b and so on.\n",
        "lengths = [3,2,0,2]\n"
      ],
      "execution_count": null,
      "outputs": []
    }
  ]
}